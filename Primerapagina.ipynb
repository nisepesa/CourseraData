{
  "metadata": {
    "kernelspec": {
      "name": "python",
      "display_name": "Python (Pyodide)",
      "language": "python"
    },
    "language_info": {
      "codemirror_mode": {
        "name": "python",
        "version": 3
      },
      "file_extension": ".py",
      "mimetype": "text/x-python",
      "name": "python",
      "nbconvert_exporter": "python",
      "pygments_lexer": "ipython3",
      "version": "3.8"
    }
  },
  "nbformat_minor": 4,
  "nbformat": 4,
  "cells": [
    {
      "cell_type": "markdown",
      "source": "# Mi Primer Cuaderno de Ciencia de Datos\n",
      "metadata": {}
    },
    {
      "cell_type": "markdown",
      "source": "# Introducción\nEste cuaderno de Jupyter tiene como objetivo proporcionar una visión general de los lenguajes y herramientas más utilizados en el campo de la ciencia de datos. Aquí exploraremos algunos de los lenguajes de programación más comunes y las bibliotecas esenciales que hacen posible el análisis de datos, el aprendizaje automático y la visualización de datos.",
      "metadata": {}
    },
    {
      "cell_type": "markdown",
      "source": "# Lenguajes de Ciencia de Datos\nEn la ciencia de datos, los siguientes lenguajes de programación son fundamentales para realizar análisis, manipulación de datos y modelado:\n\n1. **Python**: Es uno de los lenguajes más populares debido a su facilidad de uso y su amplia variedad de bibliotecas para ciencia de datos como Pandas, NumPy y Matplotlib.\n2. **R**: Es utilizado principalmente en estadística y análisis de datos, con una gran cantidad de bibliotecas especializadas en visualización y modelado estadístico.\n3. **SQL**: Esencial para trabajar con bases de datos y realizar consultas eficientes.\n4. **Scala**: A menudo utilizado junto con Apache Spark para procesamiento de grandes volúmenes de datos.\n5. **Julia**: Un lenguaje emergente especialmente diseñado para alto rendimiento en computación científica.\n",
      "metadata": {}
    },
    {
      "cell_type": "markdown",
      "source": "# Bibliotecas de Ciencia de Datos\nExisten diversas bibliotecas que permiten trabajar eficientemente con datos, realizar visualizaciones, construir modelos de aprendizaje automático y mucho más. Algunas de las más populares incluyen:\n\n1. **Pandas**: Utilizada para la manipulación y análisis de datos estructurados.\n2. **NumPy**: Ofrece soporte para matrices y álgebra lineal.\n3. **Matplotlib**: Se usa para crear visualizaciones estáticas en 2D.\n4. **Seaborn**: Basada en Matplotlib, permite crear visualizaciones estadísticas más sofisticadas.\n5. **Scikit-learn**: Una biblioteca ampliamente utilizada para modelado y análisis de datos.\n6. **TensorFlow**: Usada para construir y entrenar modelos de aprendizaje profundo.\n7. **Keras**: Interfaz de alto nivel para construir redes neuronales, se integra con TensorFlow.\n8. **Plotly**: Para crear gráficos interactivos.\n9. **SQLAlchemy**: Biblioteca que facilita la conexión con bases de datos en SQL.\n",
      "metadata": {}
    },
    {
      "cell_type": "markdown",
      "source": "# Herramientas de Ciencia de Datos\nLa ciencia de datos se apoya en diversas herramientas que facilitan el análisis de datos, visualización y creación de modelos. A continuación se presentan algunas de las herramientas más utilizadas en el campo:\n\n| Herramienta       | Función Principal                                     | Lenguaje de Programación |\n|-------------------|-------------------------------------------------------|--------------------------|\n| **Pandas**        | Manipulación y análisis de datos estructurados        | Python                   |\n| **NumPy**         | Soporte para álgebra lineal y arrays multidimensionales| Python                   |\n| **Matplotlib**    | Visualización de gráficos 2D estáticos                | Python                   |\n| **Seaborn**       | Visualización estadística avanzada                    | Python                   |\n| **Scikit-learn**  | Modelado de datos, machine learning                    | Python                   |\n| **TensorFlow**    | Framework de machine learning y deep learning         | Python                   |\n| **Keras**         | Interfaz para redes neuronales, basado en TensorFlow  | Python                   |\n| **Plotly**        | Creación de gráficos interactivos                     | Python, R                |\n| **Apache Spark**  | Computación distribuida y big data                    | Scala, Python            |\n",
      "metadata": {}
    },
    {
      "cell_type": "markdown",
      "source": "# Ejemplos de Expresiones Aritméticas\n\nEn matemáticas y programación, las expresiones aritméticas se utilizan para realizar operaciones matemáticas entre valores. A continuación, se muestran algunos ejemplos de expresiones aritméticas comunes:\n\n1. **Suma:** `5 + 3 = 8`\n2. **Resta:** `10 - 4 = 6`\n3. **Multiplicación:** `6 * 7 = 42`\n4. **División:** `20 / 5 = 4`\n5. **Exponente:** `2 ** 3 = 8` (Esto calcula 2 elevado a la potencia de 3)\n6. **Módulo (Residuo de la división):** `7 % 3 = 1`\n",
      "metadata": {}
    },
    {
      "cell_type": "code",
      "source": "# Definir dos números\nnumero1 = 5\nnumero2 = 8\n\n# Multiplicar los números\nmultiplicacion = numero1 * numero2\n\n# Sumar los números\nsuma = numero1 + numero2\n\n# Mostrar los resultados\nprint(f\"La multiplicación de {numero1} y {numero2} es: {multiplicacion}\")\nprint(f\"La suma de {numero1} y {numero2} es: {suma}\")\n",
      "metadata": {
        "trusted": true
      },
      "outputs": [
        {
          "name": "stdout",
          "text": "La multiplicación de 5 y 8 es: 40\nLa suma de 5 y 8 es: 13\n",
          "output_type": "stream"
        }
      ],
      "execution_count": 1
    },
    {
      "cell_type": "code",
      "source": "# Definir los minutos\nminutos = 150\n\n# Convertir minutos a horas\nhoras = minutos / 60\n\n# Mostrar el resultado\nprint(f\"{minutos} minutos son {horas} horas.\")\n",
      "metadata": {
        "trusted": true
      },
      "outputs": [
        {
          "name": "stdout",
          "text": "150 minutos son 2.5 horas.\n",
          "output_type": "stream"
        }
      ],
      "execution_count": 2
    },
    {
      "cell_type": "markdown",
      "source": "## Objetivos del Proyecto\n\nLos objetivos de este proyecto son:\n\n- Aprender a usar Jupyter Notebooks para proyectos de ciencia de datos.\n- Comprender cómo trabajar con celdas de código y Markdown en Jupyter.\n- Aplicar conceptos de programación en Python para realizar cálculos y análisis de datos.\n- Utilizar herramientas de visualización para presentar resultados de forma efectiva.\n",
      "metadata": {}
    },
    {
      "cell_type": "markdown",
      "source": "## Autor del Proyecto\n\nEl autor de este cuaderno es: **Nicolas Peña**\n",
      "metadata": {}
    },
    {
      "cell_type": "code",
      "source": "",
      "metadata": {
        "trusted": true
      },
      "outputs": [],
      "execution_count": null
    }
  ]
}